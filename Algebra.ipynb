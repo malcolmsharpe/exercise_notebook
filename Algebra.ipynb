{
 "cells": [
  {
   "cell_type": "code",
   "execution_count": null,
   "metadata": {},
   "outputs": [],
   "source": [
    "import IPython.display as ipd\n",
    "import ipywidgets as widgets\n",
    "import numpy as np"
   ]
  },
  {
   "cell_type": "code",
   "execution_count": null,
   "metadata": {},
   "outputs": [],
   "source": [
    "legal_problems = []\n",
    "for x in range(1, 10):\n",
    "    for y in range(1, 10):\n",
    "        if x+y < 10:\n",
    "            legal_problems.append((x,y))\n",
    "legal_problems_idxs = np.arange(len(legal_problems))\n",
    "\n",
    "problem_idx_queue = []\n",
    "\n",
    "def new_problem():\n",
    "    ipd.clear_output(True)\n",
    "    \n",
    "    if not problem_idx_queue:\n",
    "        problem_idx_queue.extend(legal_problems_idxs)\n",
    "        np.random.shuffle(problem_idx_queue)\n",
    "    \n",
    "    i = problem_idx_queue.pop()\n",
    "    x,y = legal_problems[i]\n",
    "    z = x+y\n",
    "\n",
    "    latex = fr'$\\huge x + {y} = {z} \\quad \\Rightarrow \\quad x = $'\n",
    "    label_latex = widgets.Label(value=latex)\n",
    "    label_latex.layout.font_size = '20pt'\n",
    "    \n",
    "    text_answer = widgets.Text()\n",
    "    label_eval = widgets.Label(value='?')\n",
    "    label_eval.layout.width = '20pt'\n",
    "    \n",
    "    button_check_answer = widgets.Button(description='Check answer')\n",
    "    button_new_problem = widgets.Button(description='New problem')\n",
    "    \n",
    "    def on_change_answer(_):\n",
    "        label_eval.value = '?'\n",
    "    text_answer.observe(on_change_answer, 'value')\n",
    "    \n",
    "    def on_check_answer(_):\n",
    "        answer_str = text_answer.value\n",
    "        answer_int = None\n",
    "        try:\n",
    "            answer_int = int(answer_str)\n",
    "        except ValueError:\n",
    "            pass\n",
    "        if answer_int == x:\n",
    "            label_eval.value = '\\u2705'\n",
    "        else:\n",
    "            label_eval.value = '\\u274C'\n",
    "    button_check_answer.on_click(on_check_answer)\n",
    "    button_new_problem.on_click(lambda _: new_problem())\n",
    "\n",
    "    hbox = widgets.HBox([\n",
    "        label_latex,\n",
    "        text_answer,\n",
    "        label_eval,\n",
    "        button_check_answer,\n",
    "        button_new_problem,\n",
    "    ])\n",
    "    display(hbox)\n",
    "\n",
    "new_problem()"
   ]
  },
  {
   "cell_type": "code",
   "execution_count": null,
   "metadata": {},
   "outputs": [],
   "source": []
  }
 ],
 "metadata": {
  "kernelspec": {
   "display_name": "Python 3",
   "language": "python",
   "name": "python3"
  },
  "language_info": {
   "codemirror_mode": {
    "name": "ipython",
    "version": 3
   },
   "file_extension": ".py",
   "mimetype": "text/x-python",
   "name": "python",
   "nbconvert_exporter": "python",
   "pygments_lexer": "ipython3",
   "version": "3.7.6"
  }
 },
 "nbformat": 4,
 "nbformat_minor": 4
}
